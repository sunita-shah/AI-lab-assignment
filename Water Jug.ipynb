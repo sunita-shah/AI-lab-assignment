{
  "nbformat": 4,
  "nbformat_minor": 0,
  "metadata": {
    "colab": {
      "provenance": [],
      "authorship_tag": "ABX9TyOdrezi42FtC/FPpQMZRKrG",
      "include_colab_link": true
    },
    "kernelspec": {
      "name": "python3",
      "display_name": "Python 3"
    },
    "language_info": {
      "name": "python"
    }
  },
  "cells": [
    {
      "cell_type": "markdown",
      "metadata": {
        "id": "view-in-github",
        "colab_type": "text"
      },
      "source": [
        "<a href=\"https://colab.research.google.com/github/sunita-shah/AI-lab-assignment/blob/main/Water%20Jug.ipynb\" target=\"_parent\"><img src=\"https://colab.research.google.com/assets/colab-badge.svg\" alt=\"Open In Colab\"/></a>"
      ]
    },
    {
      "cell_type": "code",
      "execution_count": 1,
      "metadata": {
        "colab": {
          "base_uri": "https://localhost:8080/"
        },
        "id": "oFIZR2wM_ePx",
        "outputId": "7c34db56-17ca-42f0-877b-efa94391176a"
      },
      "outputs": [
        {
          "output_type": "stream",
          "name": "stdout",
          "text": [
            "Enter capacity of Jug 1: 4\n",
            "Enter capacity of Jug 2: 3\n",
            "Define the goal condition.\n",
            "Enter desired amount in Jug 1 (or -1 for any): 2\n",
            "Enter desired amount in Jug 2 (or -1 for any): 0\n",
            "\n",
            "Solution found:\n",
            "Fill Jug 2: (0, 0)\n",
            "Pour Jug 2 -> Jug 1: (0, 3)\n",
            "Fill Jug 2: (3, 0)\n",
            "Pour Jug 2 -> Jug 1: (3, 3)\n",
            "Empty Jug 1: (4, 2)\n",
            "Pour Jug 2 -> Jug 1: (0, 2)\n",
            "Reach final state: (2, 0)\n"
          ]
        }
      ],
      "source": [
        "from collections import deque\n",
        "\n",
        "def water_jug_solver(jug1_capacity, jug2_capacity, goal_description):\n",
        "    \"\"\"\n",
        "    Solve the water jug problem using BFS.\n",
        "\n",
        "    :param jug1_capacity: Capacity of jug 1 (integer)\n",
        "    :param jug2_capacity: Capacity of jug 2 (integer)\n",
        "    :param goal_description: A function to evaluate the goal state (takes x, y)\n",
        "    \"\"\"\n",
        "    # BFS setup\n",
        "    visited = set()  # Track visited states\n",
        "    queue = deque([(0, 0, [])])  # Queue contains (jug1, jug2, path_taken)\n",
        "\n",
        "    while queue:\n",
        "        jug1, jug2, path = queue.popleft()\n",
        "\n",
        "        # If goal is reached\n",
        "        if goal_description(jug1, jug2):\n",
        "            path.append((jug1, jug2))\n",
        "            return path\n",
        "\n",
        "        # If state is already visited, skip it\n",
        "        if (jug1, jug2) in visited:\n",
        "            continue\n",
        "        visited.add((jug1, jug2))\n",
        "\n",
        "        # Generate all possible next moves\n",
        "        possible_moves = [\n",
        "            (jug1_capacity, jug2, \"Fill Jug 1\"),  # Fill jug 1\n",
        "            (jug1, jug2_capacity, \"Fill Jug 2\"),  # Fill jug 2\n",
        "            (0, jug2, \"Empty Jug 1\"),             # Empty jug 1\n",
        "            (jug1, 0, \"Empty Jug 2\"),             # Empty jug 2\n",
        "            # Pour jug 1 into jug 2\n",
        "            (max(0, jug1 - (jug2_capacity - jug2)),\n",
        "             min(jug2_capacity, jug1 + jug2),\n",
        "             \"Pour Jug 1 -> Jug 2\"),\n",
        "            # Pour jug 2 into jug 1\n",
        "            (min(jug1_capacity, jug1 + jug2),\n",
        "             max(0, jug2 - (jug1_capacity - jug1)),\n",
        "             \"Pour Jug 2 -> Jug 1\"),\n",
        "        ]\n",
        "\n",
        "        # Add valid moves to the queue\n",
        "        for next_jug1, next_jug2, action in possible_moves:\n",
        "            if (next_jug1, next_jug2) not in visited:\n",
        "                queue.append((next_jug1, next_jug2, path + [(jug1, jug2, action)]))\n",
        "\n",
        "    # If no solution is found\n",
        "    return None\n",
        "\n",
        "# Example usage\n",
        "if __name__ == \"__main__\":\n",
        "    # Input the jug sizes and the goal description\n",
        "    jug1_capacity = int(input(\"Enter capacity of Jug 1: \"))\n",
        "    jug2_capacity = int(input(\"Enter capacity of Jug 2: \"))\n",
        "\n",
        "    # Define the goal description\n",
        "    print(\"Define the goal condition.\")\n",
        "    goal_jug1 = int(input(\"Enter desired amount in Jug 1 (or -1 for any): \"))\n",
        "    goal_jug2 = int(input(\"Enter desired amount in Jug 2 (or -1 for any): \"))\n",
        "\n",
        "    def goal_test(x, y):\n",
        "        return (goal_jug1 == -1 or x == goal_jug1) and (goal_jug2 == -1 or y == goal_jug2)\n",
        "\n",
        "    # Solve the problem\n",
        "    solution = water_jug_solver(jug1_capacity, jug2_capacity, goal_test)\n",
        "\n",
        "    # Output the solution\n",
        "    if solution:\n",
        "        print(\"\\nSolution found:\")\n",
        "        for step in solution:\n",
        "            if len(step) == 2:  # Final state\n",
        "                print(f\"Reach final state: {step}\")\n",
        "            else:\n",
        "                jug1, jug2, action = step\n",
        "                print(f\"{action}: ({jug1}, {jug2})\")\n",
        "    else:\n",
        "        print(\"No solution found.\")\n"
      ]
    }
  ]
}