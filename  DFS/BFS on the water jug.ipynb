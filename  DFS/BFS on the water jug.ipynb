{
  "nbformat": 4,
  "nbformat_minor": 0,
  "metadata": {
    "colab": {
      "provenance": [],
      "authorship_tag": "ABX9TyNhFY1ZOWxg88g4fC4X0LaC",
      "include_colab_link": true
    },
    "kernelspec": {
      "name": "python3",
      "display_name": "Python 3"
    },
    "language_info": {
      "name": "python"
    }
  },
  "cells": [
    {
      "cell_type": "markdown",
      "metadata": {
        "id": "view-in-github",
        "colab_type": "text"
      },
      "source": [
        "<a href=\"https://colab.research.google.com/github/sunita-shah/AI-lab-assignment/blob/main/%20DFS/BFS%20on%20the%20water%20jug.ipynb\" target=\"_parent\"><img src=\"https://colab.research.google.com/assets/colab-badge.svg\" alt=\"Open In Colab\"/></a>"
      ]
    },
    {
      "cell_type": "code",
      "execution_count": 1,
      "metadata": {
        "colab": {
          "base_uri": "https://localhost:8080/"
        },
        "id": "mVdy_UtY5M4-",
        "outputId": "e1ec7c02-1a61-4c5a-83f2-1218c50ffad7"
      },
      "outputs": [
        {
          "output_type": "stream",
          "name": "stdout",
          "text": [
            "Using BFS:\n",
            "Path to solution: [(4, 0), (1, 3), (1, 0), (0, 1), (4, 1), (2, 3), (2, 0)]\n",
            "\n",
            "Using DFS:\n",
            "Path to solution: [(4, 0), (4, 3), (0, 3), (3, 0), (3, 3), (4, 2), (0, 2), (2, 0)]\n"
          ]
        }
      ],
      "source": [
        "from collections import deque\n",
        "\n",
        "class WaterJug:\n",
        "    def __init__(self, initial_state, goal_state):\n",
        "        \"\"\"\n",
        "        Initialize the water jug problem with initial and goal states.\n",
        "        :param initial_state: Tuple representing the initial state (jug1, jug2).\n",
        "        :param goal_state: Tuple representing the goal state (jug1, jug2).\n",
        "        \"\"\"\n",
        "        self.initial_state = initial_state\n",
        "        self.goal_state = goal_state\n",
        "\n",
        "    def goal_test(self, current_state):\n",
        "        \"\"\"\n",
        "        Check if the current state is the goal state.\n",
        "        :param current_state: Tuple representing the current state (jug1, jug2).\n",
        "        :return: True if current_state matches goal_state, otherwise False.\n",
        "        \"\"\"\n",
        "        return current_state == self.goal_state\n",
        "\n",
        "    def successors(self, state):\n",
        "        \"\"\"\n",
        "        Generate possible successor states based on the production rules.\n",
        "        :param state: Tuple representing the current state (jug1, jug2).\n",
        "        :return: List of successor states.\n",
        "        \"\"\"\n",
        "        jug1, jug2 = state\n",
        "        capacity1, capacity2 = 4, 3\n",
        "        successors = set()\n",
        "\n",
        "        # Rule 1: Fill jug1\n",
        "        successors.add((capacity1, jug2))\n",
        "        # Rule 2: Fill jug2\n",
        "        successors.add((jug1, capacity2))\n",
        "        # Rule 3: Empty jug1\n",
        "        successors.add((0, jug2))\n",
        "        # Rule 4: Empty jug2\n",
        "        successors.add((jug1, 0))\n",
        "        # Rule 5: Pour water from jug1 to jug2\n",
        "        transfer = min(jug1, capacity2 - jug2)\n",
        "        successors.add((jug1 - transfer, jug2 + transfer))\n",
        "        # Rule 6: Pour water from jug2 to jug1\n",
        "        transfer = min(jug2, capacity1 - jug1)\n",
        "        successors.add((jug1 + transfer, jug2 - transfer))\n",
        "\n",
        "        return [s for s in successors if s != state]\n",
        "\n",
        "    def search(self, method=\"BFS\"):\n",
        "        \"\"\"\n",
        "        Perform DFS or BFS to find the solution.\n",
        "        :param method: \"BFS\" or \"DFS\".\n",
        "        :return: Path to the solution or None if no solution exists.\n",
        "        \"\"\"\n",
        "        open_list = deque([self.initial_state])  # Use deque for BFS/DFS\n",
        "        closed_list = {}  # Store state and parent\n",
        "        closed_list[self.initial_state] = None\n",
        "\n",
        "        while open_list:\n",
        "            if method == \"BFS\":\n",
        "                current_state = open_list.popleft()\n",
        "            elif method == \"DFS\":\n",
        "                current_state = open_list.pop()\n",
        "\n",
        "            # Check if the goal state is reached\n",
        "            if self.goal_test(current_state):\n",
        "                return self.generate_path(closed_list, current_state)\n",
        "\n",
        "            # Generate successors and process them\n",
        "            for successor in self.successors(current_state):\n",
        "                if successor not in closed_list:\n",
        "                    closed_list[successor] = current_state\n",
        "                    open_list.append(successor)\n",
        "\n",
        "        return None  # No solution found\n",
        "\n",
        "    def generate_path(self, closed_list, goal_state):\n",
        "        \"\"\"\n",
        "        Generate the path from the initial state to the goal state.\n",
        "        :param closed_list: Dictionary with state and parent mapping.\n",
        "        :param goal_state: Tuple representing the goal state (jug1, jug2).\n",
        "        :return: List of states from initial to goal state.\n",
        "        \"\"\"\n",
        "        path = []\n",
        "        state = goal_state\n",
        "        while state is not None:\n",
        "            path.append(state)\n",
        "            state = closed_list[state]\n",
        "        return path[::-1]\n",
        "\n",
        "# Example\n",
        "if __name__ == \"__main__\":\n",
        "    initial_state = (4, 0)\n",
        "    goal_state = (2, 0)\n",
        "\n",
        "    water_jug = WaterJug(initial_state, goal_state)\n",
        "\n",
        "    print(\"Using BFS:\")\n",
        "    path_bfs = water_jug.search(method=\"BFS\")\n",
        "    if path_bfs:\n",
        "        print(\"Path to solution:\", path_bfs)\n",
        "    else:\n",
        "        print(\"No solution found.\")\n",
        "\n",
        "    print(\"\\nUsing DFS:\")\n",
        "    path_dfs = water_jug.search(method=\"DFS\")\n",
        "    if path_dfs:\n",
        "        print(\"Path to solution:\", path_dfs)\n",
        "    else:\n",
        "        print(\"No solution found.\")\n"
      ]
    }
  ]
}