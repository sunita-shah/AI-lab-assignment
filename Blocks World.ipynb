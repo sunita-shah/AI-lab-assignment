{
  "nbformat": 4,
  "nbformat_minor": 0,
  "metadata": {
    "colab": {
      "provenance": [],
      "authorship_tag": "ABX9TyPmYj/lZu0ZURt22rhWzS/G",
      "include_colab_link": true
    },
    "kernelspec": {
      "name": "python3",
      "display_name": "Python 3"
    },
    "language_info": {
      "name": "python"
    }
  },
  "cells": [
    {
      "cell_type": "markdown",
      "metadata": {
        "id": "view-in-github",
        "colab_type": "text"
      },
      "source": [
        "<a href=\"https://colab.research.google.com/github/sunita-shah/AI-lab-assignment/blob/main/Blocks%20World.ipynb\" target=\"_parent\"><img src=\"https://colab.research.google.com/assets/colab-badge.svg\" alt=\"Open In Colab\"/></a>"
      ]
    },
    {
      "cell_type": "code",
      "execution_count": 1,
      "metadata": {
        "colab": {
          "base_uri": "https://localhost:8080/"
        },
        "id": "Fckab0cP6G2Q",
        "outputId": "d5806bb7-6384-4b0a-c24b-5e62c841e382"
      },
      "outputs": [
        {
          "output_type": "stream",
          "name": "stdout",
          "text": [
            "Heuristic value (e(p)): -8\n"
          ]
        }
      ],
      "source": [
        "def calculate_heuristic(start_state, goal_state):\n",
        "    \"\"\"\n",
        "    Calculate the heuristic value e(p) for the Blocks World problem.\n",
        "    :param start_state: List of lists representing the current state.\n",
        "    :param goal_state: List of lists representing the goal state.\n",
        "    :return: Heuristic value e(p).\n",
        "    \"\"\"\n",
        "    # Create a mapping of block -> correct support structure in goal state\n",
        "    goal_support = {}\n",
        "    for stack in goal_state:\n",
        "        for i in range(len(stack)):\n",
        "            block = stack[i]\n",
        "            goal_support[block] = stack[:i]  # Support structure is all blocks below the current one\n",
        "\n",
        "    # Initialize the heuristic value\n",
        "    heuristic_value = 0\n",
        "\n",
        "    # Check the support structure for each block in the start state\n",
        "    for stack in start_state:\n",
        "        for i in range(len(stack)):\n",
        "            block = stack[i]\n",
        "            current_support = stack[:i]  # Support structure is all blocks below the current one\n",
        "\n",
        "            if current_support == goal_support.get(block, []):  # Correct support structure\n",
        "                heuristic_value += len(current_support) + 1  # +1 for each block in the structure\n",
        "            else:  # Incorrect support structure\n",
        "                heuristic_value -= len(current_support) + 1  # -1 for each block in the structure\n",
        "\n",
        "    return heuristic_value\n",
        "\n",
        "\n",
        "# Example usage\n",
        "if __name__ == \"__main__\":\n",
        "    # Define the start state and goal state\n",
        "    start_state = [[\"A\", \"D\", \"C\", \"B\"]]  # All blocks in one stack\n",
        "    goal_state = [[\"D\"], [\"C\"], [\"B\"], [\"A\"]]  # Correct arrangement as per the image\n",
        "\n",
        "    # Calculate heuristic value\n",
        "    heuristic = calculate_heuristic(start_state, goal_state)\n",
        "    print(\"Heuristic value (e(p)):\", heuristic)\n"
      ]
    }
  ]
}