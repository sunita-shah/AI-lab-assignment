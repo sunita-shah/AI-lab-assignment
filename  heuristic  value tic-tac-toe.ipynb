{
  "nbformat": 4,
  "nbformat_minor": 0,
  "metadata": {
    "colab": {
      "provenance": [],
      "authorship_tag": "ABX9TyMS3N8i4VaDzRsI5so45KnK",
      "include_colab_link": true
    },
    "kernelspec": {
      "name": "python3",
      "display_name": "Python 3"
    },
    "language_info": {
      "name": "python"
    }
  },
  "cells": [
    {
      "cell_type": "markdown",
      "metadata": {
        "id": "view-in-github",
        "colab_type": "text"
      },
      "source": [
        "<a href=\"https://colab.research.google.com/github/sunita-shah/AI-lab-assignment/blob/main/%20heuristic%20%20value%20tic-tac-toe.ipynb\" target=\"_parent\"><img src=\"https://colab.research.google.com/assets/colab-badge.svg\" alt=\"Open In Colab\"/></a>"
      ]
    },
    {
      "cell_type": "code",
      "execution_count": 1,
      "metadata": {
        "colab": {
          "base_uri": "https://localhost:8080/"
        },
        "id": "cAlHAS779p-1",
        "outputId": "1960a16d-141b-4926-e60c-e979861aaf6f"
      },
      "outputs": [
        {
          "output_type": "stream",
          "name": "stdout",
          "text": [
            "Heuristic value (e(p)): 6\n"
          ]
        }
      ],
      "source": [
        "class TicTacToeHeuristic:\n",
        "    def __init__(self, board, player, opponent):\n",
        "        \"\"\"\n",
        "        Initialize the Tic-Tac-Toe board and players.\n",
        "        :param board: 3x3 list representing the current state of the board.\n",
        "        :param player: Character representing the player (e.g., 'X').\n",
        "        :param opponent: Character representing the opponent (e.g., 'O').\n",
        "        \"\"\"\n",
        "        self.board = board\n",
        "        self.player = player\n",
        "        self.opponent = opponent\n",
        "\n",
        "    def is_open(self, line):\n",
        "        \"\"\"\n",
        "        Check if a line (row, column, or diagonal) is open for either player.\n",
        "        A line is open if it contains only empty cells or one player's symbol.\n",
        "        :param line: List of cells in the line.\n",
        "        :return: (open_for_player, open_for_opponent) - tuple of booleans.\n",
        "        \"\"\"\n",
        "        player_open = all(cell in [self.player, ' '] for cell in line)\n",
        "        opponent_open = all(cell in [self.opponent, ' '] for cell in line)\n",
        "        return player_open, opponent_open\n",
        "\n",
        "    def count_open_lines(self):\n",
        "        \"\"\"\n",
        "        Count the number of open lines for both the player and the opponent.\n",
        "        :return: (open_for_player, open_for_opponent) - counts of open lines.\n",
        "        \"\"\"\n",
        "        player_count = 0\n",
        "        opponent_count = 0\n",
        "\n",
        "        # Check rows and columns\n",
        "        for i in range(3):\n",
        "            row = self.board[i]\n",
        "            col = [self.board[j][i] for j in range(3)]\n",
        "            player_open_row, opponent_open_row = self.is_open(row)\n",
        "            player_open_col, opponent_open_col = self.is_open(col)\n",
        "            if player_open_row:\n",
        "                player_count += 1\n",
        "            if opponent_open_row:\n",
        "                opponent_count += 1\n",
        "            if player_open_col:\n",
        "                player_count += 1\n",
        "            if opponent_open_col:\n",
        "                opponent_count += 1\n",
        "\n",
        "        # Check diagonals\n",
        "        main_diag = [self.board[i][i] for i in range(3)]\n",
        "        anti_diag = [self.board[i][2 - i] for i in range(3)]\n",
        "        player_open_main_diag, opponent_open_main_diag = self.is_open(main_diag)\n",
        "        player_open_anti_diag, opponent_open_anti_diag = self.is_open(anti_diag)\n",
        "        if player_open_main_diag:\n",
        "            player_count += 1\n",
        "        if opponent_open_main_diag:\n",
        "            opponent_count += 1\n",
        "        if player_open_anti_diag:\n",
        "            player_count += 1\n",
        "        if opponent_open_anti_diag:\n",
        "            opponent_count += 1\n",
        "\n",
        "        return player_count, opponent_count\n",
        "\n",
        "    def calculate_heuristic(self):\n",
        "        \"\"\"\n",
        "        Calculate the heuristic value e(p) for the current board state.\n",
        "        :return: Heuristic value.\n",
        "        \"\"\"\n",
        "        player_open, opponent_open = self.count_open_lines()\n",
        "        return player_open - opponent_open\n",
        "\n",
        "\n",
        "# Example usage\n",
        "if __name__ == \"__main__\":\n",
        "    # Define the current board state\n",
        "    board = [\n",
        "        ['X', ' ', ' '],\n",
        "        [' ', 'X', ' '],\n",
        "        [' ', ' ', ' ']\n",
        "    ]\n",
        "    player = 'X'\n",
        "    opponent = 'O'\n",
        "\n",
        "    # Create a TicTacToeHeuristic object\n",
        "    ttt_heuristic = TicTacToeHeuristic(board, player, opponent)\n",
        "\n",
        "    # Calculate and print the heuristic value\n",
        "    heuristic_value = ttt_heuristic.calculate_heuristic()\n",
        "    print(\"Heuristic value (e(p)):\", heuristic_value)\n",
        "\n"
      ]
    }
  ]
}